{
  "nbformat": 4,
  "nbformat_minor": 0,
  "metadata": {
    "colab": {
      "name": "Copy of NLP Course - Week 3 Exercise Question.ipynb",
      "version": "0.3.2",
      "provenance": [],
      "include_colab_link": true
    },
    "kernelspec": {
      "name": "python3",
      "display_name": "Python 3"
    },
    "accelerator": "GPU"
  },
  "cells": [
    {
      "cell_type": "markdown",
      "metadata": {
        "id": "view-in-github",
        "colab_type": "text"
      },
      "source": [
        "<a href=\"https://colab.research.google.com/github/Manjunath727/DLwithTF/blob/master/NLP_Using_TF/W3/NLP_Course_Week_3_Exercise_Question.ipynb\" target=\"_parent\"><img src=\"https://colab.research.google.com/assets/colab-badge.svg\" alt=\"Open In Colab\"/></a>"
      ]
    },
    {
      "cell_type": "code",
      "metadata": {
        "id": "hmA6EzkQJ5jt",
        "colab_type": "code",
        "colab": {}
      },
      "source": [
        "import json\n",
        "import tensorflow as tf\n",
        "import csv\n",
        "import random\n",
        "import numpy as np\n",
        "\n",
        "from tensorflow.keras.preprocessing.text import Tokenizer\n",
        "from tensorflow.keras.preprocessing.sequence import pad_sequences\n",
        "from tensorflow.keras.utils import to_categorical\n",
        "from tensorflow.keras import regularizers\n",
        "\n",
        "\n",
        "embedding_dim = 100\n",
        "max_length = 16\n",
        "trunc_type='post'\n",
        "padding_type='post'\n",
        "oov_tok = \"<OOV>\"\n",
        "training_size=160000#Your dataset size here. Experiment using smaller values (i.e. 16000), but don't forget to train on at least 160000 to see the best effects\n",
        "test_portion=.1\n",
        "\n",
        "corpus = []\n"
      ],
      "execution_count": 0,
      "outputs": []
    },
    {
      "cell_type": "code",
      "metadata": {
        "id": "bM0l_dORKqE0",
        "colab_type": "code",
        "outputId": "84292940-c688-4267-c207-370893cef345",
        "colab": {
          "base_uri": "https://localhost:8080/",
          "height": 212
        }
      },
      "source": [
        "\n",
        "# Note that I cleaned the Stanford dataset to remove LATIN1 encoding to make it easier for Python CSV reader\n",
        "# You can do that yourself with:\n",
        "# iconv -f LATIN1 -t UTF8 training.1600000.processed.noemoticon.csv -o training_cleaned.csv\n",
        "# I then hosted it on my site to make it easier to use in this notebook\n",
        "\n",
        "!wget --no-check-certificate \\\n",
        "    https://storage.googleapis.com/laurencemoroney-blog.appspot.com/training_cleaned.csv \\\n",
        "    -O /tmp/training_cleaned.csv\n",
        "\n",
        "num_sentences = 0\n",
        "\n",
        "with open(\"/tmp/training_cleaned.csv\") as csvfile:\n",
        "    reader = csv.reader(csvfile, delimiter=',')\n",
        "    for row in reader:\n",
        "      # Your Code here. Create list items where the first item is the text, found in row[5], and the second is the label. Note that the label is a '0' or a '4' in the text. When it's the former, make\n",
        "      # your label to be 0, otherwise 1. Keep a count of the number of sentences in num_sentences\n",
        "        list_item=[]\n",
        "        # YOUR CODE HERE\n",
        "        list_item.append(row[5])\n",
        "        if row[0] == '0':\n",
        "          list_item.append(0)\n",
        "        else:\n",
        "          list_item.append(1)\n",
        "            \n",
        "        num_sentences = num_sentences + 1\n",
        "        corpus.append(list_item)\n",
        "\n",
        "\n"
      ],
      "execution_count": 14,
      "outputs": [
        {
          "output_type": "stream",
          "text": [
            "--2019-07-31 22:53:40--  https://storage.googleapis.com/laurencemoroney-blog.appspot.com/training_cleaned.csv\n",
            "Resolving storage.googleapis.com (storage.googleapis.com)... 74.125.141.128, 2607:f8b0:400c:c06::80\n",
            "Connecting to storage.googleapis.com (storage.googleapis.com)|74.125.141.128|:443... connected.\n",
            "HTTP request sent, awaiting response... 200 OK\n",
            "Length: 238942690 (228M) [application/octet-stream]\n",
            "Saving to: ‘/tmp/training_cleaned.csv’\n",
            "\n",
            "/tmp/training_clean 100%[===================>] 227.87M   212MB/s    in 1.1s    \n",
            "\n",
            "2019-07-31 22:53:42 (212 MB/s) - ‘/tmp/training_cleaned.csv’ saved [238942690/238942690]\n",
            "\n"
          ],
          "name": "stdout"
        }
      ]
    },
    {
      "cell_type": "code",
      "metadata": {
        "id": "3kxblBUjEUX-",
        "colab_type": "code",
        "outputId": "ae881e43-7a9f-406e-e60d-3782ff28ca48",
        "colab": {
          "base_uri": "https://localhost:8080/",
          "height": 70
        }
      },
      "source": [
        "print(num_sentences)\n",
        "print(len(corpus))\n",
        "print(corpus[1])\n",
        "\n",
        "# Expected Output:\n",
        "# 1600000\n",
        "# 1600000\n",
        "# [\"is upset that he can't update his Facebook by texting it... and might cry as a result  School today also. Blah!\", 0]"
      ],
      "execution_count": 15,
      "outputs": [
        {
          "output_type": "stream",
          "text": [
            "1600000\n",
            "1600000\n",
            "[\"is upset that he can't update his Facebook by texting it... and might cry as a result  School today also. Blah!\", 0]\n"
          ],
          "name": "stdout"
        }
      ]
    },
    {
      "cell_type": "code",
      "metadata": {
        "id": "ohOGz24lsNAD",
        "colab_type": "code",
        "colab": {}
      },
      "source": [
        "sentences=[]\n",
        "labels=[]\n",
        "random.shuffle(corpus)\n",
        "for x in range(training_size):\n",
        "    sentences.append(corpus[x][0])\n",
        "    labels.append(corpus[x][1])\n",
        "\n",
        "\n",
        "tokenizer = Tokenizer()\n",
        "tokenizer.fit_on_texts(sentences)\n",
        "\n",
        "word_index = tokenizer.word_index\n",
        "vocab_size=len(word_index)\n",
        "\n",
        "sequences = tokenizer.texts_to_sequences(sentences)\n",
        "padded = pad_sequences(sequences,maxlen=max_length, padding=padding_type,\n",
        "                      truncating=trunc_type)\n",
        "\n",
        "split = int(test_portion * training_size)\n",
        "\n",
        "test_sequences = padded[:split]\n",
        "training_sequences = padded[split:]\n",
        "test_labels = labels[:split]\n",
        "training_labels = labels[split:]"
      ],
      "execution_count": 0,
      "outputs": []
    },
    {
      "cell_type": "code",
      "metadata": {
        "id": "gIrtRem1En3N",
        "colab_type": "code",
        "outputId": "fbabcd48-9181-4fa1-928d-90f86d85044d",
        "colab": {
          "base_uri": "https://localhost:8080/",
          "height": 52
        }
      },
      "source": [
        "print(vocab_size)\n",
        "print(word_index['i'])\n",
        "# Expected Output\n",
        "# 138858\n",
        "# 1"
      ],
      "execution_count": 25,
      "outputs": [
        {
          "output_type": "stream",
          "text": [
            "138478\n",
            "1\n"
          ],
          "name": "stdout"
        }
      ]
    },
    {
      "cell_type": "code",
      "metadata": {
        "id": "C1zdgJkusRh0",
        "colab_type": "code",
        "outputId": "897bdbdc-897b-4f28-aef5-8b63ebd402c0",
        "colab": {
          "base_uri": "https://localhost:8080/",
          "height": 212
        }
      },
      "source": [
        "# Note this is the 100 dimension version of GloVe from Stanford\n",
        "# I unzipped and hosted it on my site to make this notebook easier\n",
        "!wget --no-check-certificate \\\n",
        "    https://storage.googleapis.com/laurencemoroney-blog.appspot.com/glove.6B.100d.txt \\\n",
        "    -O /tmp/glove.6B.100d.txt\n",
        "embeddings_index = {};\n",
        "with open('/tmp/glove.6B.100d.txt') as f:\n",
        "    for line in f:\n",
        "        values = line.split();\n",
        "        word = values[0];\n",
        "        coefs = np.asarray(values[1:], dtype='float32');\n",
        "        embeddings_index[word] = coefs;\n",
        "\n",
        "embeddings_matrix = np.zeros((vocab_size+1, embedding_dim));\n",
        "for word, i in word_index.items():\n",
        "    embedding_vector = embeddings_index.get(word);\n",
        "    if embedding_vector is not None:\n",
        "        embeddings_matrix[i] = embedding_vector;"
      ],
      "execution_count": 26,
      "outputs": [
        {
          "output_type": "stream",
          "text": [
            "--2019-07-31 22:58:57--  https://storage.googleapis.com/laurencemoroney-blog.appspot.com/glove.6B.100d.txt\n",
            "Resolving storage.googleapis.com (storage.googleapis.com)... 74.125.141.128, 2607:f8b0:400c:c06::80\n",
            "Connecting to storage.googleapis.com (storage.googleapis.com)|74.125.141.128|:443... connected.\n",
            "HTTP request sent, awaiting response... 200 OK\n",
            "Length: 347116733 (331M) [text/plain]\n",
            "Saving to: ‘/tmp/glove.6B.100d.txt’\n",
            "\n",
            "/tmp/glove.6B.100d. 100%[===================>] 331.04M   141MB/s    in 2.3s    \n",
            "\n",
            "2019-07-31 22:58:59 (141 MB/s) - ‘/tmp/glove.6B.100d.txt’ saved [347116733/347116733]\n",
            "\n"
          ],
          "name": "stdout"
        }
      ]
    },
    {
      "cell_type": "code",
      "metadata": {
        "id": "71NLk_lpFLNt",
        "colab_type": "code",
        "outputId": "2e8221d7-a0a6-4438-a4f5-5fc1d60f5696",
        "colab": {
          "base_uri": "https://localhost:8080/",
          "height": 34
        }
      },
      "source": [
        "print(len(embeddings_matrix))\n",
        "# Expected Output\n",
        "# 138859"
      ],
      "execution_count": 27,
      "outputs": [
        {
          "output_type": "stream",
          "text": [
            "138479\n"
          ],
          "name": "stdout"
        }
      ]
    },
    {
      "cell_type": "code",
      "metadata": {
        "colab_type": "code",
        "id": "iKKvbuEBOGFz",
        "colab": {
          "base_uri": "https://localhost:8080/",
          "height": 1000
        },
        "outputId": "ccb851a5-ad33-4fdf-991a-39c977ed30de"
      },
      "source": [
        "model = tf.keras.Sequential([\n",
        "    tf.keras.layers.Embedding(vocab_size+1, embedding_dim, input_length=max_length, weights=[embeddings_matrix], trainable=False),\n",
        "    # YOUR CODE HERE - experiment with combining different types, such as convolutions and LSTMs\n",
        "    tf.keras.layers.Conv1D(32,5,activation='relu'),\n",
        "    tf.keras.layers.MaxPooling1D(pool_size=4),\n",
        "    tf.keras.layers.LSTM(32),\n",
        "    tf.keras.layers.Dense(1,activation='sigmoid')\n",
        "])\n",
        "model.compile(loss='binary_crossentropy', optimizer='adam', metrics=['accuracy'])\n",
        "model.summary()\n",
        "\n",
        "num_epochs = 50\n",
        "history = model.fit(training_sequences, training_labels, epochs=num_epochs, validation_data=(test_sequences, test_labels), verbose=2)\n",
        "\n",
        "print(\"Training Complete\")\n"
      ],
      "execution_count": 30,
      "outputs": [
        {
          "output_type": "stream",
          "text": [
            "W0731 23:21:13.694730 140621453281152 deprecation.py:323] From /usr/local/lib/python3.6/dist-packages/tensorflow/python/ops/nn_impl.py:180: add_dispatch_support.<locals>.wrapper (from tensorflow.python.ops.array_ops) is deprecated and will be removed in a future version.\n",
            "Instructions for updating:\n",
            "Use tf.where in 2.0, which has the same broadcast rule as np.where\n"
          ],
          "name": "stderr"
        },
        {
          "output_type": "stream",
          "text": [
            "Model: \"sequential\"\n",
            "_________________________________________________________________\n",
            "Layer (type)                 Output Shape              Param #   \n",
            "=================================================================\n",
            "embedding_2 (Embedding)      (None, 16, 100)           13847900  \n",
            "_________________________________________________________________\n",
            "conv1d_2 (Conv1D)            (None, 12, 32)            16032     \n",
            "_________________________________________________________________\n",
            "max_pooling1d_1 (MaxPooling1 (None, 3, 32)             0         \n",
            "_________________________________________________________________\n",
            "lstm_1 (LSTM)                (None, 32)                8320      \n",
            "_________________________________________________________________\n",
            "dense_1 (Dense)              (None, 1)                 33        \n",
            "=================================================================\n",
            "Total params: 13,872,285\n",
            "Trainable params: 24,385\n",
            "Non-trainable params: 13,847,900\n",
            "_________________________________________________________________\n",
            "Train on 144000 samples, validate on 16000 samples\n",
            "Epoch 1/50\n",
            "144000/144000 - 45s - loss: 0.5558 - acc: 0.7117 - val_loss: 0.5396 - val_acc: 0.7168\n",
            "Epoch 2/50\n",
            "144000/144000 - 40s - loss: 0.5124 - acc: 0.7460 - val_loss: 0.5267 - val_acc: 0.7315\n",
            "Epoch 3/50\n",
            "144000/144000 - 40s - loss: 0.4929 - acc: 0.7570 - val_loss: 0.5475 - val_acc: 0.7229\n",
            "Epoch 4/50\n",
            "144000/144000 - 40s - loss: 0.4797 - acc: 0.7664 - val_loss: 0.5118 - val_acc: 0.7431\n",
            "Epoch 5/50\n",
            "144000/144000 - 40s - loss: 0.4688 - acc: 0.7732 - val_loss: 0.5057 - val_acc: 0.7456\n",
            "Epoch 6/50\n",
            "144000/144000 - 40s - loss: 0.4600 - acc: 0.7789 - val_loss: 0.5074 - val_acc: 0.7461\n",
            "Epoch 7/50\n",
            "144000/144000 - 39s - loss: 0.4531 - acc: 0.7831 - val_loss: 0.5113 - val_acc: 0.7439\n",
            "Epoch 8/50\n",
            "144000/144000 - 39s - loss: 0.4452 - acc: 0.7878 - val_loss: 0.5183 - val_acc: 0.7416\n",
            "Epoch 9/50\n",
            "144000/144000 - 39s - loss: 0.4388 - acc: 0.7923 - val_loss: 0.5239 - val_acc: 0.7422\n",
            "Epoch 10/50\n",
            "144000/144000 - 39s - loss: 0.4330 - acc: 0.7954 - val_loss: 0.5191 - val_acc: 0.7420\n",
            "Epoch 11/50\n",
            "144000/144000 - 39s - loss: 0.4268 - acc: 0.7982 - val_loss: 0.5317 - val_acc: 0.7412\n",
            "Epoch 12/50\n",
            "144000/144000 - 39s - loss: 0.4220 - acc: 0.8019 - val_loss: 0.5301 - val_acc: 0.7365\n",
            "Epoch 13/50\n",
            "144000/144000 - 39s - loss: 0.4165 - acc: 0.8043 - val_loss: 0.5517 - val_acc: 0.7412\n",
            "Epoch 14/50\n",
            "144000/144000 - 39s - loss: 0.4113 - acc: 0.8068 - val_loss: 0.5399 - val_acc: 0.7396\n",
            "Epoch 15/50\n",
            "144000/144000 - 38s - loss: 0.4075 - acc: 0.8107 - val_loss: 0.5588 - val_acc: 0.7316\n",
            "Epoch 16/50\n",
            "144000/144000 - 38s - loss: 0.4022 - acc: 0.8132 - val_loss: 0.5535 - val_acc: 0.7342\n",
            "Epoch 17/50\n",
            "144000/144000 - 38s - loss: 0.3978 - acc: 0.8154 - val_loss: 0.5526 - val_acc: 0.7349\n",
            "Epoch 18/50\n",
            "144000/144000 - 38s - loss: 0.3936 - acc: 0.8172 - val_loss: 0.5560 - val_acc: 0.7338\n",
            "Epoch 19/50\n",
            "144000/144000 - 38s - loss: 0.3898 - acc: 0.8183 - val_loss: 0.5719 - val_acc: 0.7361\n",
            "Epoch 20/50\n",
            "144000/144000 - 38s - loss: 0.3858 - acc: 0.8224 - val_loss: 0.5690 - val_acc: 0.7333\n",
            "Epoch 21/50\n",
            "144000/144000 - 39s - loss: 0.3816 - acc: 0.8240 - val_loss: 0.5749 - val_acc: 0.7295\n",
            "Epoch 22/50\n",
            "144000/144000 - 38s - loss: 0.3783 - acc: 0.8261 - val_loss: 0.5824 - val_acc: 0.7343\n",
            "Epoch 23/50\n",
            "144000/144000 - 38s - loss: 0.3751 - acc: 0.8278 - val_loss: 0.5955 - val_acc: 0.7304\n",
            "Epoch 24/50\n",
            "144000/144000 - 38s - loss: 0.3719 - acc: 0.8298 - val_loss: 0.5868 - val_acc: 0.7299\n",
            "Epoch 25/50\n",
            "144000/144000 - 38s - loss: 0.3684 - acc: 0.8308 - val_loss: 0.6093 - val_acc: 0.7310\n",
            "Epoch 26/50\n",
            "144000/144000 - 38s - loss: 0.3654 - acc: 0.8322 - val_loss: 0.6116 - val_acc: 0.7291\n",
            "Epoch 27/50\n",
            "144000/144000 - 38s - loss: 0.3621 - acc: 0.8342 - val_loss: 0.6171 - val_acc: 0.7286\n",
            "Epoch 28/50\n",
            "144000/144000 - 38s - loss: 0.3598 - acc: 0.8351 - val_loss: 0.6218 - val_acc: 0.7287\n",
            "Epoch 29/50\n",
            "144000/144000 - 39s - loss: 0.3566 - acc: 0.8375 - val_loss: 0.6324 - val_acc: 0.7231\n",
            "Epoch 30/50\n",
            "144000/144000 - 38s - loss: 0.3537 - acc: 0.8387 - val_loss: 0.6423 - val_acc: 0.7294\n",
            "Epoch 31/50\n",
            "144000/144000 - 38s - loss: 0.3515 - acc: 0.8394 - val_loss: 0.6308 - val_acc: 0.7256\n",
            "Epoch 32/50\n",
            "144000/144000 - 38s - loss: 0.3493 - acc: 0.8410 - val_loss: 0.6403 - val_acc: 0.7288\n",
            "Epoch 33/50\n",
            "144000/144000 - 38s - loss: 0.3467 - acc: 0.8416 - val_loss: 0.6367 - val_acc: 0.7257\n",
            "Epoch 34/50\n",
            "144000/144000 - 38s - loss: 0.3448 - acc: 0.8422 - val_loss: 0.6622 - val_acc: 0.7234\n",
            "Epoch 35/50\n",
            "144000/144000 - 38s - loss: 0.3431 - acc: 0.8438 - val_loss: 0.6466 - val_acc: 0.7224\n",
            "Epoch 36/50\n",
            "144000/144000 - 38s - loss: 0.3405 - acc: 0.8451 - val_loss: 0.6505 - val_acc: 0.7184\n",
            "Epoch 37/50\n",
            "144000/144000 - 39s - loss: 0.3388 - acc: 0.8467 - val_loss: 0.6568 - val_acc: 0.7241\n",
            "Epoch 38/50\n",
            "144000/144000 - 38s - loss: 0.3369 - acc: 0.8465 - val_loss: 0.6678 - val_acc: 0.7225\n",
            "Epoch 39/50\n",
            "144000/144000 - 38s - loss: 0.3356 - acc: 0.8475 - val_loss: 0.6648 - val_acc: 0.7231\n",
            "Epoch 40/50\n",
            "144000/144000 - 38s - loss: 0.3341 - acc: 0.8479 - val_loss: 0.6721 - val_acc: 0.7237\n",
            "Epoch 41/50\n",
            "144000/144000 - 38s - loss: 0.3311 - acc: 0.8505 - val_loss: 0.6636 - val_acc: 0.7215\n",
            "Epoch 42/50\n",
            "144000/144000 - 38s - loss: 0.3308 - acc: 0.8505 - val_loss: 0.6833 - val_acc: 0.7182\n",
            "Epoch 43/50\n",
            "144000/144000 - 38s - loss: 0.3281 - acc: 0.8521 - val_loss: 0.6906 - val_acc: 0.7216\n",
            "Epoch 44/50\n",
            "144000/144000 - 38s - loss: 0.3263 - acc: 0.8532 - val_loss: 0.6840 - val_acc: 0.7207\n",
            "Epoch 45/50\n",
            "144000/144000 - 39s - loss: 0.3250 - acc: 0.8540 - val_loss: 0.6973 - val_acc: 0.7236\n",
            "Epoch 46/50\n",
            "144000/144000 - 38s - loss: 0.3230 - acc: 0.8543 - val_loss: 0.7005 - val_acc: 0.7201\n",
            "Epoch 47/50\n",
            "144000/144000 - 38s - loss: 0.3230 - acc: 0.8541 - val_loss: 0.6933 - val_acc: 0.7219\n",
            "Epoch 48/50\n",
            "144000/144000 - 38s - loss: 0.3224 - acc: 0.8548 - val_loss: 0.7034 - val_acc: 0.7176\n",
            "Epoch 49/50\n",
            "144000/144000 - 38s - loss: 0.3199 - acc: 0.8565 - val_loss: 0.7119 - val_acc: 0.7203\n",
            "Epoch 50/50\n",
            "144000/144000 - 38s - loss: 0.3173 - acc: 0.8580 - val_loss: 0.7316 - val_acc: 0.7187\n",
            "Training Complete\n"
          ],
          "name": "stdout"
        }
      ]
    },
    {
      "cell_type": "code",
      "metadata": {
        "id": "qxju4ItJKO8F",
        "colab_type": "code",
        "colab": {
          "base_uri": "https://localhost:8080/",
          "height": 607
        },
        "outputId": "984ff9d0-378a-449b-b065-32c4df557821"
      },
      "source": [
        "import matplotlib.image  as mpimg\n",
        "import matplotlib.pyplot as plt\n",
        "\n",
        "#-----------------------------------------------------------\n",
        "# Retrieve a list of list results on training and test data\n",
        "# sets for each training epoch\n",
        "#-----------------------------------------------------------\n",
        "acc=history.history['acc']\n",
        "val_acc=history.history['val_acc']\n",
        "loss=history.history['loss']\n",
        "val_loss=history.history['val_loss']\n",
        "\n",
        "epochs=range(len(acc)) # Get number of epochs\n",
        "\n",
        "#------------------------------------------------\n",
        "# Plot training and validation accuracy per epoch\n",
        "#------------------------------------------------\n",
        "plt.plot(epochs, acc, 'r')\n",
        "plt.plot(epochs, val_acc, 'b')\n",
        "plt.title('Training and validation accuracy')\n",
        "plt.xlabel(\"Epochs\")\n",
        "plt.ylabel(\"Accuracy\")\n",
        "plt.legend([\"Accuracy\", \"Validation Accuracy\"])\n",
        "\n",
        "plt.figure()\n",
        "\n",
        "#------------------------------------------------\n",
        "# Plot training and validation loss per epoch\n",
        "#------------------------------------------------\n",
        "plt.plot(epochs, loss, 'r')\n",
        "plt.plot(epochs, val_loss, 'b')\n",
        "plt.title('Training and validation loss')\n",
        "plt.xlabel(\"Epochs\")\n",
        "plt.ylabel(\"Loss\")\n",
        "plt.legend([\"Loss\", \"Validation Loss\"])\n",
        "\n",
        "plt.figure()\n",
        "\n",
        "\n",
        "# Expected Output\n",
        "# A chart where the validation loss does not increase sharply!"
      ],
      "execution_count": 31,
      "outputs": [
        {
          "output_type": "execute_result",
          "data": {
            "text/plain": [
              "<Figure size 432x288 with 0 Axes>"
            ]
          },
          "metadata": {
            "tags": []
          },
          "execution_count": 31
        },
        {
          "output_type": "display_data",
          "data": {
            "image/png": "[encoded data removed]",
            "text/plain": [
              "<Figure size 432x288 with 1 Axes>"
            ]
          },
          "metadata": {
            "tags": []
          }
        },
        {
          "output_type": "display_data",
          "data": {
            "image/png": "[encoded data removed]",
            "text/plain": [
              "<Figure size 432x288 with 1 Axes>"
            ]
          },
          "metadata": {
            "tags": []
          }
        },
        {
          "output_type": "display_data",
          "data": {
            "text/plain": [
              "<Figure size 432x288 with 0 Axes>"
            ]
          },
          "metadata": {
            "tags": []
          }
        }
      ]
    }
  ]
}